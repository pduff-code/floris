{
 "cells": [
  {
   "cell_type": "markdown",
   "metadata": {},
   "source": [
    "### Multiprocessing"
   ]
  },
  {
   "cell_type": "code",
   "execution_count": 1,
   "metadata": {},
   "outputs": [],
   "source": [
    "from multiprocessing import Pool, cpu_count\n",
    "import numpy as np\n",
    "from my_funs import mult"
   ]
  },
  {
   "cell_type": "code",
   "execution_count": 2,
   "metadata": {},
   "outputs": [
    {
     "name": "stdout",
     "output_type": "stream",
     "text": [
      "Using 6 nodes\n",
      "[0, 4, 0, 12, 8, 10, 12, 0, 32, 36, 10, 44, 36, 39, 42, 45, 48, 17, 54, 57, 60, 0, 0, 69, 24, 0, 0, 0, 84, 116, 90, 0, 0, 33, 34, 105, 72, 74, 76, 0, 80, 0, 84, 129, 176, 90, 184, 0, 96, 98, 100, 51, 104, 159, 216, 55, 0, 114, 116, 177, 0, 0, 124, 63, 128, 260, 264, 268, 204, 69, 280, 71, 288, 73, 296, 150, 304, 231, 234, 79, 240, 324, 0, 83, 336, 340, 86, 261, 352, 89, 90, 273, 184, 186, 94, 380, 192, 0, 392, 0]\n"
     ]
    }
   ],
   "source": [
    "arguments = [[x, y] for x, y in zip(range(100), np.random.randint(0, 5, 100))]\n",
    "nodes = int(cpu_count() * 0.8)\n",
    "print(f\"Using {nodes} nodes\")\n",
    "\n",
    "with Pool(nodes) as pool:\n",
    "    results = list(pool.starmap(mult, arguments))\n",
    "    \n",
    "print(results)\n",
    "\n"
   ]
  },
  {
   "cell_type": "markdown",
   "metadata": {},
   "source": [
    "#### Using map instead of starmap"
   ]
  },
  {
   "cell_type": "code",
   "execution_count": null,
   "metadata": {},
   "outputs": [],
   "source": []
  },
  {
   "cell_type": "code",
   "execution_count": 3,
   "metadata": {},
   "outputs": [
    {
     "name": "stdout",
     "output_type": "stream",
     "text": [
      "Using 6 nodes\n",
      "[[0, 3, 0, 3], [1, 3, 1, 3], [2, 0, 2, 0], [3, 1, 3, 1], [4, 3, 4, 3], [5, 2, 5, 2], [6, 0, 6, 0], [7, 2, 7, 2], [8, 4, 8, 4], [9, 1, 9, 1], [10, 0, 10, 0], [11, 1, 11, 1], [12, 3, 12, 3], [13, 1, 13, 1], [14, 0, 14, 0], [15, 1, 15, 1], [16, 4, 16, 4], [17, 4, 17, 4], [18, 2, 18, 2], [19, 3, 19, 3], [20, 3, 20, 3], [21, 3, 21, 3], [22, 0, 22, 0], [23, 0, 23, 0], [24, 0, 24, 0], [25, 2, 25, 2], [26, 3, 26, 3], [27, 4, 27, 4], [28, 1, 28, 1], [29, 4, 29, 4], [30, 4, 30, 4], [31, 0, 31, 0], [32, 1, 32, 1], [33, 4, 33, 4], [34, 1, 34, 1], [35, 3, 35, 3], [36, 1, 36, 1], [37, 1, 37, 1], [38, 4, 38, 4], [39, 2, 39, 2], [40, 1, 40, 1], [41, 2, 41, 2], [42, 2, 42, 2], [43, 0, 43, 0], [44, 2, 44, 2], [45, 4, 45, 4], [46, 0, 46, 0], [47, 3, 47, 3], [48, 2, 48, 2], [49, 2, 49, 2], [50, 1, 50, 1], [51, 1, 51, 1], [52, 1, 52, 1], [53, 2, 53, 2], [54, 1, 54, 1], [55, 4, 55, 4], [56, 0, 56, 0], [57, 3, 57, 3], [58, 4, 58, 4], [59, 2, 59, 2], [60, 1, 60, 1], [61, 1, 61, 1], [62, 3, 62, 3], [63, 2, 63, 2], [64, 4, 64, 4], [65, 3, 65, 3], [66, 2, 66, 2], [67, 1, 67, 1], [68, 1, 68, 1], [69, 4, 69, 4], [70, 1, 70, 1], [71, 3, 71, 3], [72, 1, 72, 1], [73, 3, 73, 3], [74, 0, 74, 0], [75, 2, 75, 2], [76, 0, 76, 0], [77, 0, 77, 0], [78, 3, 78, 3], [79, 3, 79, 3], [80, 3, 80, 3], [81, 3, 81, 3], [82, 2, 82, 2], [83, 3, 83, 3], [84, 2, 84, 2], [85, 0, 85, 0], [86, 2, 86, 2], [87, 0, 87, 0], [88, 2, 88, 2], [89, 3, 89, 3], [90, 1, 90, 1], [91, 2, 91, 2], [92, 2, 92, 2], [93, 3, 93, 3], [94, 4, 94, 4], [95, 0, 95, 0], [96, 4, 96, 4], [97, 3, 97, 3], [98, 4, 98, 4], [99, 2, 99, 2]]\n"
     ]
    }
   ],
   "source": [
    "arguments = [[x, y] for x, y in zip(range(100), np.random.randint(0, 5, 100))]\n",
    "nodes = int(cpu_count() * 0.8)\n",
    "print(f\"Using {nodes} nodes\")\n",
    "with Pool(nodes) as pool:\n",
    "    results = list(pool.map(mult, arguments))\n",
    "    \n",
    "print(results)"
   ]
  },
  {
   "cell_type": "code",
   "execution_count": null,
   "metadata": {},
   "outputs": [],
   "source": []
  }
 ],
 "metadata": {
  "kernelspec": {
   "display_name": "Python 3",
   "language": "python",
   "name": "python3"
  },
  "language_info": {
   "codemirror_mode": {
    "name": "ipython",
    "version": 3
   },
   "file_extension": ".py",
   "mimetype": "text/x-python",
   "name": "python",
   "nbconvert_exporter": "python",
   "pygments_lexer": "ipython3",
   "version": "3.7.4"
  }
 },
 "nbformat": 4,
 "nbformat_minor": 4
}
