{
 "cells": [
  {
   "cell_type": "code",
   "execution_count": 1,
   "metadata": {},
   "outputs": [
    {
     "ename": "ImportError",
     "evalue": "cannot import name 'YawOptimizationWindRose' from 'floris.tools.optimization' (C:\\Users\\pduffy\\Documents\\repos\\floris\\floris\\tools\\optimization.py)",
     "output_type": "error",
     "traceback": [
      "\u001b[1;31m---------------------------------------------------------------------------\u001b[0m",
      "\u001b[1;31mImportError\u001b[0m                               Traceback (most recent call last)",
      "\u001b[1;32m<ipython-input-1-c63fbb8044da>\u001b[0m in \u001b[0;36m<module>\u001b[1;34m\u001b[0m\n\u001b[0;32m      3\u001b[0m \u001b[1;32mimport\u001b[0m \u001b[0mfloris\u001b[0m\u001b[1;33m.\u001b[0m\u001b[0mtools\u001b[0m\u001b[1;33m.\u001b[0m\u001b[0mvisualization\u001b[0m \u001b[1;32mas\u001b[0m \u001b[0mvis\u001b[0m\u001b[1;33m\u001b[0m\u001b[1;33m\u001b[0m\u001b[0m\n\u001b[0;32m      4\u001b[0m \u001b[1;32mimport\u001b[0m \u001b[0mfloris\u001b[0m\u001b[1;33m.\u001b[0m\u001b[0mtools\u001b[0m\u001b[1;33m.\u001b[0m\u001b[0mcut_plane\u001b[0m \u001b[1;32mas\u001b[0m \u001b[0mcp\u001b[0m\u001b[1;33m\u001b[0m\u001b[1;33m\u001b[0m\u001b[0m\n\u001b[1;32m----> 5\u001b[1;33m \u001b[1;32mfrom\u001b[0m \u001b[0mfloris\u001b[0m\u001b[1;33m.\u001b[0m\u001b[0mtools\u001b[0m\u001b[1;33m.\u001b[0m\u001b[0moptimization\u001b[0m \u001b[1;32mimport\u001b[0m \u001b[0mYawOptimizationWindRose\u001b[0m\u001b[1;33m\u001b[0m\u001b[1;33m\u001b[0m\u001b[0m\n\u001b[0m\u001b[0;32m      6\u001b[0m \u001b[1;32mimport\u001b[0m \u001b[0mfloris\u001b[0m\u001b[1;33m.\u001b[0m\u001b[0mtools\u001b[0m\u001b[1;33m.\u001b[0m\u001b[0mwind_rose\u001b[0m \u001b[1;32mas\u001b[0m \u001b[0mrose\u001b[0m\u001b[1;33m\u001b[0m\u001b[1;33m\u001b[0m\u001b[0m\n\u001b[0;32m      7\u001b[0m \u001b[1;32mimport\u001b[0m \u001b[0mfloris\u001b[0m\u001b[1;33m.\u001b[0m\u001b[0mtools\u001b[0m\u001b[1;33m.\u001b[0m\u001b[0mpower_rose\u001b[0m \u001b[1;32mas\u001b[0m \u001b[0mpr\u001b[0m\u001b[1;33m\u001b[0m\u001b[1;33m\u001b[0m\u001b[0m\n",
      "\u001b[1;31mImportError\u001b[0m: cannot import name 'YawOptimizationWindRose' from 'floris.tools.optimization' (C:\\Users\\pduffy\\Documents\\repos\\floris\\floris\\tools\\optimization.py)"
     ]
    }
   ],
   "source": [
    "import matplotlib.pyplot as plt\n",
    "import floris.tools as wfct\n",
    "import floris.tools.visualization as vis\n",
    "import floris.tools.cut_plane as cp\n",
    "from floris.tools.optimization import YawOptimizationWindRose\n",
    "import floris.tools.wind_rose as rose\n",
    "import floris.tools.power_rose as pr\n",
    "import numpy as np\n",
    "import pandas as pd"
   ]
  },
  {
   "cell_type": "code",
   "execution_count": null,
   "metadata": {},
   "outputs": [],
   "source": [
    "# Instantiate the FLORIS object\n",
    "fi = wfct.floris_utilities.FlorisInterface(\"examples\\example_input.json\")\n",
    "\n",
    "# Define wind farm coordinates and layout\n",
    "wf_coordinate = [39.8283, -98.5795]\n",
    "\n",
    "# Set wind farm to N_row x N_row grid with constant spacing \n",
    "# (2 x 2 grid, 5 D spacing)\n",
    "D = fi.floris.farm.turbines[0].rotor_diameter\n",
    "N_row = 2\n",
    "spc = 5\n",
    "layout_x = []\n",
    "layout_y = []\n",
    "for i in range(N_row):\n",
    "\tfor k in range(N_row):\n",
    "\t\tlayout_x.append(i*spc*D)\n",
    "\t\tlayout_y.append(k*spc*D)\n",
    "N_turb = len(layout_x)\n",
    "\n",
    "fi.reinitialize_flow_field(layout_array=(layout_x, layout_y),wind_direction=270.0,wind_speed=8.0)\n",
    "fi.calculate_wake()"
   ]
  },
  {
   "cell_type": "code",
   "execution_count": null,
   "metadata": {},
   "outputs": [],
   "source": [
    "# set min and max yaw offsets for optimization\n",
    "min_yaw = 0.0\n",
    "max_yaw = 25.0\n",
    "\n",
    "# Define minimum and maximum wind speed for optimizing power. \n",
    "# Below minimum wind speed, assumes power is zero.\n",
    "# Above maximum_ws, assume optimal yaw offsets are 0 degrees\n",
    "minimum_ws = 8.0\n",
    "maximum_ws = 9.0\n",
    "\n",
    "# ================================================================================\n",
    "print('Plotting the FLORIS flowfield...')\n",
    "# ================================================================================\n",
    "\n",
    "# Initialize the horizontal cut\n",
    "hor_plane = wfct.cut_plane.HorPlane(\n",
    "    fi.get_flow_data(),\n",
    "    fi.floris.farm.turbines[0].hub_height\n",
    ")\n",
    "\n",
    "# Plot and show\n",
    "fig, ax = plt.subplots()\n",
    "wfct.visualization.visualize_cut_plane(hor_plane, ax=ax)\n",
    "ax.set_title('Baseline flow for U = 8 m/s, Wind Direction = 270$^\\circ$')\n",
    "\n"
   ]
  },
  {
   "cell_type": "code",
   "execution_count": null,
   "metadata": {},
   "outputs": [],
   "source": [
    "# ================================================================================\n",
    "print('Importing wind rose data...')\n",
    "# ================================================================================\n",
    "\n",
    "# Create wind rose object and import wind rose dataframe using WIND Toolkit HSDS API.\n",
    "# Alternatively, load existing .csv file with wind rose information.\n",
    "calculate_new_wind_rose = False\n",
    "\n",
    "wind_rose = rose.WindRose()\n",
    "\n",
    "if calculate_new_wind_rose:\n",
    "\n",
    "\twd_list = np.arange(0,360,5)\n",
    "\tws_list = np.arange(0,26,1)\n",
    "\n",
    "\tdf = wind_rose.import_from_wind_toolkit_hsds(wf_coordinate[0],\n",
    "\t                                                    wf_coordinate[1],\n",
    "\t                                                    ht = 100,\n",
    "\t                                                    wd = wd_list,\n",
    "\t                                                    ws = ws_list,\n",
    "\t                                                    limit_month = None,\n",
    "\t                                                    st_date = None,\n",
    "\t                                                    en_date = None)\n",
    "\n",
    "else:\n",
    "\tdf = wind_rose.load('windtoolkit_geo_center_us.p')\n",
    "\n",
    "# plot wind rose\n",
    "wind_rose.plot_wind_rose()\n",
    "\n"
   ]
  },
  {
   "cell_type": "code",
   "execution_count": null,
   "metadata": {},
   "outputs": [],
   "source": [
    "# =============================================================================\n",
    "print('Finding baseline and optimal yaw angles in FLORIS...')\n",
    "# =============================================================================\n",
    "\n",
    "# Instantiate the Optimization object\n",
    "yaw_opt = YawOptimizationWindRose(fi, df.wd, df.ws,\n",
    "                               minimum_yaw_angle=min_yaw,\n",
    "                               maximum_yaw_angle=max_yaw,\n",
    "                               minimum_ws=minimum_ws,\n",
    "                               maximum_ws=maximum_ws)\n",
    "\n",
    "# Determine baseline power with and without wakes\n",
    "df_base = yaw_opt.calc_baseline_power()\n",
    "\n",
    "\n",
    "# combine wind farm-level power into one dataframe\n",
    "df_power = pd.DataFrame({'ws':df.ws,'wd':df.wd, \\\n",
    "    'freq_val':df.freq_val,'power_no_wake':df_base.power_no_wake, \\\n",
    "    'power_baseline':df_base.power_baseline})\n",
    "\n",
    "# Set up the power rose\n",
    "df_turbine_power_no_wake = pd.DataFrame([list(row) for row in df_base['turbine_power_no_wake']],columns=[str(i) for i in range(1,N_turb+1)])\n",
    "df_turbine_power_no_wake['ws'] = df.ws\n",
    "df_turbine_power_no_wake['wd'] = df.wd\n",
    "df_turbine_power_baseline = pd.DataFrame([list(row) for row in df_base['turbine_power_baseline']],columns=[str(i) for i in range(1,N_turb+1)])\n",
    "df_turbine_power_baseline['ws'] = df.ws\n",
    "df_turbine_power_baseline['wd'] = df.wd\n",
    "\n",
    "case_name = 'Example '+str(N_row)+' x '+str(N_row)+ ' Wind Farm'\n",
    "power_rose = pr.PowerRose(case_name, df_power, df_turbine_power_no_wake, df_turbine_power_baseline)\n",
    "\n",
    "# Display AEP analysis\n",
    "fig, axarr = plt.subplots(2, 1, sharex=True, figsize=(6.4, 6.5))\n",
    "power_rose.plot_by_direction(axarr)\n",
    "power_rose.report()\n",
    "\n",
    "plt.show()\n"
   ]
  },
  {
   "cell_type": "code",
   "execution_count": null,
   "metadata": {},
   "outputs": [],
   "source": [
    "# Plot and show\n",
    "fig, ax = plt.subplots()\n",
    "wfct.visualization.plot_turbines(ax, layout_x, layout_y, yaw_angles=np.zeros(len(layout_x)), D=D)\n",
    "ax.set_title('Layout')\n"
   ]
  },
  {
   "cell_type": "code",
   "execution_count": null,
   "metadata": {},
   "outputs": [],
   "source": []
  },
  {
   "cell_type": "code",
   "execution_count": null,
   "metadata": {},
   "outputs": [],
   "source": []
  }
 ],
 "metadata": {
  "kernelspec": {
   "display_name": "Python 3",
   "language": "python",
   "name": "python3"
  },
  "language_info": {
   "codemirror_mode": {
    "name": "ipython",
    "version": 3
   },
   "file_extension": ".py",
   "mimetype": "text/x-python",
   "name": "python",
   "nbconvert_exporter": "python",
   "pygments_lexer": "ipython3",
   "version": "3.7.4"
  }
 },
 "nbformat": 4,
 "nbformat_minor": 4
}
