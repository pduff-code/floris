{
 "cells": [
  {
   "cell_type": "code",
   "execution_count": 1,
   "metadata": {},
   "outputs": [
    {
     "name": "stderr",
     "output_type": "stream",
     "text": [
      "C:\\Users\\pduffy\\AppData\\Local\\Continuum\\anaconda3\\lib\\site-packages\\statsmodels\\tools\\_testing.py:19: FutureWarning: pandas.util.testing is deprecated. Use the functions in the public API at pandas.testing instead.\n",
      "  import pandas.util.testing as tm\n"
     ]
    }
   ],
   "source": [
    "import matplotlib.pyplot as plt\n",
    "import floris.tools as wfct\n",
    "import floris.tools.visualization as vis\n",
    "import floris.tools.cut_plane as cp\n",
    "from floris.tools.optimization import YawOptimizationWindRose\n",
    "import floris.tools.wind_rose as rose\n",
    "import floris.tools.power_rose as pr\n",
    "import numpy as np\n",
    "import pandas as pd"
   ]
  },
  {
   "cell_type": "code",
   "execution_count": 2,
   "metadata": {},
   "outputs": [
    {
     "name": "stdout",
     "output_type": "stream",
     "text": [
      "Using default gauss deflection multipler of 1.2\n"
     ]
    }
   ],
   "source": [
    "# Instantiate the FLORIS object\n",
    "fi = wfct.floris_utilities.FlorisInterface(\"examples\\example_input.json\")\n",
    "\n",
    "# Define wind farm coordinates and layout\n",
    "wf_coordinate = [41.116, -71.521]\n",
    "lat = wf_coordinate[0]\n",
    "lon = wf_coordinate[1]\n",
    "# Set wind farm to N_row x N_row grid with constant spacing \n",
    "# (2 x 2 grid, 5 D spacing)\n",
    "D = fi.floris.farm.turbines[0].rotor_diameter\n",
    "N_row = 2\n",
    "spc = 5\n",
    "layout_x = []\n",
    "layout_y = []\n",
    "for i in range(N_row):\n",
    "\tfor k in range(N_row):\n",
    "\t\tlayout_x.append(i*spc*D)\n",
    "\t\tlayout_y.append(k*spc*D)\n",
    "N_turb = len(layout_x)\n",
    "\n",
    "fi.reinitialize_flow_field(layout_array=(layout_x, layout_y),wind_direction=270.0,wind_speed=8.0)\n",
    "fi.calculate_wake()"
   ]
  },
  {
   "cell_type": "code",
   "execution_count": 3,
   "metadata": {},
   "outputs": [
    {
     "name": "stdout",
     "output_type": "stream",
     "text": [
      "Plotting the FLORIS flowfield...\n",
      "Assuming grid with spacing 10\n",
      " 215.200  114.400   18.990\n",
      "Nearest value in z to 90.00 is 84.76\n"
     ]
    },
    {
     "data": {
      "text/plain": [
       "Text(0.5, 1.0, 'Baseline flow for U = 8 m/s, Wind Direction = 270$^\\\\circ$')"
      ]
     },
     "execution_count": 3,
     "metadata": {},
     "output_type": "execute_result"
    },
    {
     "data": {
      "image/png": "[encoded data removed]",
      "text/plain": [
       "<Figure size 432x288 with 1 Axes>"
      ]
     },
     "metadata": {
      "needs_background": "light"
     },
     "output_type": "display_data"
    }
   ],
   "source": [
    "# set min and max yaw offsets for optimization\n",
    "min_yaw = 0.0\n",
    "max_yaw = 25.0\n",
    "\n",
    "# Define minimum and maximum wind speed for optimizing power. \n",
    "# Below minimum wind speed, assumes power is zero.\n",
    "# Above maximum_ws, assume optimal yaw offsets are 0 degrees\n",
    "minimum_ws = 8.0\n",
    "maximum_ws = 9.0\n",
    "\n",
    "# ================================================================================\n",
    "print('Plotting the FLORIS flowfield...')\n",
    "# ================================================================================\n",
    "\n",
    "# Initialize the horizontal cut\n",
    "hor_plane = wfct.cut_plane.HorPlane(\n",
    "    fi.get_flow_data(),\n",
    "    fi.floris.farm.turbines[0].hub_height\n",
    ")\n",
    "\n",
    "# Plot and show\n",
    "fig, ax = plt.subplots()\n",
    "wfct.visualization.visualize_cut_plane(hor_plane, ax=ax)\n",
    "ax.set_title('Baseline flow for U = 8 m/s, Wind Direction = 270$^\\circ$')\n",
    "\n"
   ]
  },
  {
   "cell_type": "code",
   "execution_count": 4,
   "metadata": {},
   "outputs": [
    {
     "name": "stdout",
     "output_type": "stream",
     "text": [
      "Importing wind rose data...\n"
     ]
    },
    {
     "ename": "KeyError",
     "evalue": "'Unable to open object (Component not found)'",
     "output_type": "error",
     "traceback": [
      "\u001b[1;31m---------------------------------------------------------------------------\u001b[0m",
      "\u001b[1;31mOSError\u001b[0m                                   Traceback (most recent call last)",
      "\u001b[1;32m~\\AppData\\Local\\Continuum\\anaconda3\\lib\\site-packages\\h5pyd\\_hl\\group.py\u001b[0m in \u001b[0;36mget_link_json\u001b[1;34m(self, h5path)\u001b[0m\n\u001b[0;32m    300\u001b[0m             \u001b[1;32mtry\u001b[0m\u001b[1;33m:\u001b[0m\u001b[1;33m\u001b[0m\u001b[1;33m\u001b[0m\u001b[0m\n\u001b[1;32m--> 301\u001b[1;33m                 \u001b[0mrsp_json\u001b[0m \u001b[1;33m=\u001b[0m \u001b[0mself\u001b[0m\u001b[1;33m.\u001b[0m\u001b[0mGET\u001b[0m\u001b[1;33m(\u001b[0m\u001b[0mreq\u001b[0m\u001b[1;33m)\u001b[0m\u001b[1;33m\u001b[0m\u001b[1;33m\u001b[0m\u001b[0m\n\u001b[0m\u001b[0;32m    302\u001b[0m             \u001b[1;32mexcept\u001b[0m \u001b[0mIOError\u001b[0m\u001b[1;33m:\u001b[0m\u001b[1;33m\u001b[0m\u001b[1;33m\u001b[0m\u001b[0m\n",
      "\u001b[1;32m~\\AppData\\Local\\Continuum\\anaconda3\\lib\\site-packages\\h5pyd\\_hl\\base.py\u001b[0m in \u001b[0;36mGET\u001b[1;34m(self, req, params, format)\u001b[0m\n\u001b[0;32m    550\u001b[0m             \u001b[0mself\u001b[0m\u001b[1;33m.\u001b[0m\u001b[0mlog\u001b[0m\u001b[1;33m.\u001b[0m\u001b[0minfo\u001b[0m\u001b[1;33m(\u001b[0m\u001b[1;34m\"Got response: {}\"\u001b[0m\u001b[1;33m.\u001b[0m\u001b[0mformat\u001b[0m\u001b[1;33m(\u001b[0m\u001b[0mrsp\u001b[0m\u001b[1;33m.\u001b[0m\u001b[0mstatus_code\u001b[0m\u001b[1;33m)\u001b[0m\u001b[1;33m)\u001b[0m\u001b[1;33m\u001b[0m\u001b[1;33m\u001b[0m\u001b[0m\n\u001b[1;32m--> 551\u001b[1;33m             \u001b[1;32mraise\u001b[0m \u001b[0mIOError\u001b[0m\u001b[1;33m(\u001b[0m\u001b[0mrsp\u001b[0m\u001b[1;33m.\u001b[0m\u001b[0mstatus_code\u001b[0m\u001b[1;33m,\u001b[0m \u001b[0mrsp\u001b[0m\u001b[1;33m.\u001b[0m\u001b[0mreason\u001b[0m\u001b[1;33m)\u001b[0m\u001b[1;33m\u001b[0m\u001b[1;33m\u001b[0m\u001b[0m\n\u001b[0m\u001b[0;32m    552\u001b[0m         \u001b[1;32mif\u001b[0m \u001b[0mrsp\u001b[0m\u001b[1;33m.\u001b[0m\u001b[0mheaders\u001b[0m\u001b[1;33m[\u001b[0m\u001b[1;34m'Content-Type'\u001b[0m\u001b[1;33m]\u001b[0m \u001b[1;33m==\u001b[0m \u001b[1;34m\"application/octet-stream\"\u001b[0m\u001b[1;33m:\u001b[0m\u001b[1;33m\u001b[0m\u001b[1;33m\u001b[0m\u001b[0m\n",
      "\u001b[1;31mOSError\u001b[0m: [Errno 404] Not Found",
      "\nDuring handling of the above exception, another exception occurred:\n",
      "\u001b[1;31mKeyError\u001b[0m                                  Traceback (most recent call last)",
      "\u001b[1;32m<ipython-input-4-8a0e5338559c>\u001b[0m in \u001b[0;36m<module>\u001b[1;34m\u001b[0m\n\u001b[0;32m     21\u001b[0m                                                             \u001b[0mlimit_month\u001b[0m \u001b[1;33m=\u001b[0m \u001b[1;32mNone\u001b[0m\u001b[1;33m,\u001b[0m\u001b[1;33m\u001b[0m\u001b[1;33m\u001b[0m\u001b[0m\n\u001b[0;32m     22\u001b[0m                                                             \u001b[0mst_date\u001b[0m \u001b[1;33m=\u001b[0m \u001b[1;32mNone\u001b[0m\u001b[1;33m,\u001b[0m\u001b[1;33m\u001b[0m\u001b[1;33m\u001b[0m\u001b[0m\n\u001b[1;32m---> 23\u001b[1;33m \t                                                    en_date = None)\n\u001b[0m\u001b[0;32m     24\u001b[0m \u001b[1;33m\u001b[0m\u001b[0m\n\u001b[0;32m     25\u001b[0m \u001b[1;32melse\u001b[0m\u001b[1;33m:\u001b[0m\u001b[1;33m\u001b[0m\u001b[1;33m\u001b[0m\u001b[0m\n",
      "\u001b[1;32m~\\Documents\\repos\\floris\\floris\\tools\\wind_rose.py\u001b[0m in \u001b[0;36mimport_from_wind_toolkit_hsds\u001b[1;34m(self, lat, lon, ht, wd, ws, limit_month, st_date, en_date)\u001b[0m\n\u001b[0;32m    542\u001b[0m                                                 \u001b[0mlimit_month\u001b[0m\u001b[1;33m=\u001b[0m\u001b[0mlimit_month\u001b[0m\u001b[1;33m,\u001b[0m\u001b[1;33m\u001b[0m\u001b[1;33m\u001b[0m\u001b[0m\n\u001b[0;32m    543\u001b[0m                                                 \u001b[0mst_date\u001b[0m\u001b[1;33m=\u001b[0m\u001b[0mst_date\u001b[0m\u001b[1;33m,\u001b[0m\u001b[1;33m\u001b[0m\u001b[1;33m\u001b[0m\u001b[0m\n\u001b[1;32m--> 544\u001b[1;33m                                                 en_date=en_date)\n\u001b[0m\u001b[0;32m    545\u001b[0m \u001b[1;33m\u001b[0m\u001b[0m\n\u001b[0;32m    546\u001b[0m             \u001b[0mws_new\u001b[0m \u001b[1;33m=\u001b[0m \u001b[0md\u001b[0m\u001b[1;33m[\u001b[0m\u001b[1;34m'ws'\u001b[0m\u001b[1;33m]\u001b[0m\u001b[1;33m\u001b[0m\u001b[1;33m\u001b[0m\u001b[0m\n",
      "\u001b[1;32m~\\Documents\\repos\\floris\\floris\\tools\\wind_rose.py\u001b[0m in \u001b[0;36mload_wind_toolkit_hsds\u001b[1;34m(self, lat, lon, ht, limit_month, st_date, en_date)\u001b[0m\n\u001b[0;32m    657\u001b[0m \u001b[1;33m\u001b[0m\u001b[0m\n\u001b[0;32m    658\u001b[0m         \u001b[1;31m# assign wind direction, wind speed, and time datasets for the desired height\u001b[0m\u001b[1;33m\u001b[0m\u001b[1;33m\u001b[0m\u001b[1;33m\u001b[0m\u001b[0m\n\u001b[1;32m--> 659\u001b[1;33m         \u001b[0mwd_dset\u001b[0m \u001b[1;33m=\u001b[0m \u001b[0mf\u001b[0m\u001b[1;33m[\u001b[0m\u001b[1;34m'winddirection_'\u001b[0m \u001b[1;33m+\u001b[0m \u001b[0mstr\u001b[0m\u001b[1;33m(\u001b[0m\u001b[0mht\u001b[0m\u001b[1;33m)\u001b[0m \u001b[1;33m+\u001b[0m \u001b[1;34m'm'\u001b[0m\u001b[1;33m]\u001b[0m\u001b[1;33m\u001b[0m\u001b[1;33m\u001b[0m\u001b[0m\n\u001b[0m\u001b[0;32m    660\u001b[0m         \u001b[0mws_dset\u001b[0m \u001b[1;33m=\u001b[0m \u001b[0mf\u001b[0m\u001b[1;33m[\u001b[0m\u001b[1;34m'windspeed_'\u001b[0m \u001b[1;33m+\u001b[0m \u001b[0mstr\u001b[0m\u001b[1;33m(\u001b[0m\u001b[0mht\u001b[0m\u001b[1;33m)\u001b[0m \u001b[1;33m+\u001b[0m \u001b[1;34m'm'\u001b[0m\u001b[1;33m]\u001b[0m\u001b[1;33m\u001b[0m\u001b[1;33m\u001b[0m\u001b[0m\n\u001b[0;32m    661\u001b[0m         \u001b[0mdt\u001b[0m \u001b[1;33m=\u001b[0m \u001b[0mf\u001b[0m\u001b[1;33m[\u001b[0m\u001b[1;34m'datetime'\u001b[0m\u001b[1;33m]\u001b[0m\u001b[1;33m\u001b[0m\u001b[1;33m\u001b[0m\u001b[0m\n",
      "\u001b[1;32m~\\AppData\\Local\\Continuum\\anaconda3\\lib\\site-packages\\h5pyd\\_hl\\group.py\u001b[0m in \u001b[0;36m__getitem__\u001b[1;34m(self, name)\u001b[0m\n\u001b[0;32m    395\u001b[0m \u001b[1;33m\u001b[0m\u001b[0m\n\u001b[0;32m    396\u001b[0m \u001b[1;33m\u001b[0m\u001b[0m\n\u001b[1;32m--> 397\u001b[1;33m         \u001b[0mparent_uuid\u001b[0m\u001b[1;33m,\u001b[0m \u001b[0mlink_json\u001b[0m \u001b[1;33m=\u001b[0m \u001b[0mself\u001b[0m\u001b[1;33m.\u001b[0m\u001b[0mget_link_json\u001b[0m\u001b[1;33m(\u001b[0m\u001b[0mname\u001b[0m\u001b[1;33m)\u001b[0m\u001b[1;33m\u001b[0m\u001b[1;33m\u001b[0m\u001b[0m\n\u001b[0m\u001b[0;32m    398\u001b[0m         \u001b[0mlink_class\u001b[0m \u001b[1;33m=\u001b[0m \u001b[0mlink_json\u001b[0m\u001b[1;33m[\u001b[0m\u001b[1;34m'class'\u001b[0m\u001b[1;33m]\u001b[0m\u001b[1;33m\u001b[0m\u001b[1;33m\u001b[0m\u001b[0m\n\u001b[0;32m    399\u001b[0m \u001b[1;33m\u001b[0m\u001b[0m\n",
      "\u001b[1;32m~\\AppData\\Local\\Continuum\\anaconda3\\lib\\site-packages\\h5pyd\\_hl\\group.py\u001b[0m in \u001b[0;36mget_link_json\u001b[1;34m(self, h5path)\u001b[0m\n\u001b[0;32m    301\u001b[0m                 \u001b[0mrsp_json\u001b[0m \u001b[1;33m=\u001b[0m \u001b[0mself\u001b[0m\u001b[1;33m.\u001b[0m\u001b[0mGET\u001b[0m\u001b[1;33m(\u001b[0m\u001b[0mreq\u001b[0m\u001b[1;33m)\u001b[0m\u001b[1;33m\u001b[0m\u001b[1;33m\u001b[0m\u001b[0m\n\u001b[0;32m    302\u001b[0m             \u001b[1;32mexcept\u001b[0m \u001b[0mIOError\u001b[0m\u001b[1;33m:\u001b[0m\u001b[1;33m\u001b[0m\u001b[1;33m\u001b[0m\u001b[0m\n\u001b[1;32m--> 303\u001b[1;33m                 \u001b[1;32mraise\u001b[0m \u001b[0mKeyError\u001b[0m\u001b[1;33m(\u001b[0m\u001b[1;34m\"Unable to open object (Component not found)\"\u001b[0m\u001b[1;33m)\u001b[0m\u001b[1;33m\u001b[0m\u001b[1;33m\u001b[0m\u001b[0m\n\u001b[0m\u001b[0;32m    304\u001b[0m \u001b[1;33m\u001b[0m\u001b[0m\n\u001b[0;32m    305\u001b[0m             \u001b[1;32mif\u001b[0m \u001b[1;34m\"link\"\u001b[0m \u001b[1;32mnot\u001b[0m \u001b[1;32min\u001b[0m \u001b[0mrsp_json\u001b[0m\u001b[1;33m:\u001b[0m\u001b[1;33m\u001b[0m\u001b[1;33m\u001b[0m\u001b[0m\n",
      "\u001b[1;31mKeyError\u001b[0m: 'Unable to open object (Component not found)'"
     ]
    }
   ],
   "source": [
    "# ================================================================================\n",
    "print('Importing wind rose data...')\n",
    "# ================================================================================\n",
    "\n",
    "# Create wind rose object and import wind rose dataframe using WIND Toolkit HSDS API.\n",
    "# Alternatively, load existing .csv file with wind rose information.\n",
    "calculate_new_wind_rose = True\n",
    "h=100.0\n",
    "wind_rose = rose.WindRose()\n",
    "\n",
    "if calculate_new_wind_rose:\n",
    "\n",
    "\twd_list = np.arange(0,360,5)\n",
    "\tws_list = np.arange(0,26,1)\n",
    "\n",
    "\tdf = wind_rose.import_from_wind_toolkit_hsds(wf_coordinate[0],\n",
    "\t                                                    wf_coordinate[1],\n",
    "\t                                                    ht = h,\n",
    "\t                                                    wd = wd_list,\n",
    "\t                                                    ws = ws_list,\n",
    "\t                                                    limit_month = None,\n",
    "\t                                                    st_date = None,\n",
    "\t                                                    en_date = None)\n",
    "\n",
    "else:\n",
    "\tdf = wind_rose.load('windtoolkit_geo_center_us.p')\n",
    "\n",
    "# plot wind rose\n",
    "wind_rose.plot_wind_rose()\n",
    "h_hub=h\n",
    "latstr = str(lat)\n",
    "latstr = latstr.replace('.','_')\n",
    "lonstr = str(lon)\n",
    "lonstr = lonstr.replace('.','_')\n",
    "hstr = str(h_hub)\n",
    "hstr = hstr.replace('.','_')\n",
    "resource_file_name = str(int(h_hub))+'mlat'+latstr+'long'+lonstr+'wtk.p'\n",
    "wind_rose.save(resource_file_name)\n",
    "# 100, 119, 136, 150, 156"
   ]
  },
  {
   "cell_type": "code",
   "execution_count": null,
   "metadata": {},
   "outputs": [],
   "source": [
    "# =============================================================================\n",
    "print('Finding baseline and optimal yaw angles in FLORIS...')\n",
    "# =============================================================================\n",
    "\n",
    "# Instantiate the Optimization object\n",
    "yaw_opt = YawOptimizationWindRose(fi, df.wd, df.ws,\n",
    "                               minimum_yaw_angle=min_yaw,\n",
    "                               maximum_yaw_angle=max_yaw,\n",
    "                               minimum_ws=minimum_ws,\n",
    "                               maximum_ws=maximum_ws)\n",
    "\n",
    "# Determine baseline power with and without wakes\n",
    "df_base = yaw_opt.calc_baseline_power()\n",
    "\n",
    "\n",
    "# combine wind farm-level power into one dataframe\n",
    "df_power = pd.DataFrame({'ws':df.ws,'wd':df.wd, \\\n",
    "    'freq_val':df.freq_val,'power_no_wake':df_base.power_no_wake, \\\n",
    "    'power_baseline':df_base.power_baseline})\n",
    "\n",
    "# Set up the power rose\n",
    "df_turbine_power_no_wake = pd.DataFrame([list(row) for row in df_base['turbine_power_no_wake']],columns=[str(i) for i in range(1,N_turb+1)])\n",
    "df_turbine_power_no_wake['ws'] = df.ws\n",
    "df_turbine_power_no_wake['wd'] = df.wd\n",
    "df_turbine_power_baseline = pd.DataFrame([list(row) for row in df_base['turbine_power_baseline']],columns=[str(i) for i in range(1,N_turb+1)])\n",
    "df_turbine_power_baseline['ws'] = df.ws\n",
    "df_turbine_power_baseline['wd'] = df.wd\n",
    "\n",
    "case_name = 'Example '+str(N_row)+' x '+str(N_row)+ ' Wind Farm'\n",
    "power_rose = pr.PowerRose(case_name, df_power, df_turbine_power_no_wake, df_turbine_power_baseline)\n",
    "\n",
    "# Display AEP analysis\n",
    "fig, axarr = plt.subplots(2, 1, sharex=True, figsize=(6.4, 6.5))\n",
    "power_rose.plot_by_direction(axarr)\n",
    "power_rose.report()\n",
    "\n",
    "plt.show()\n"
   ]
  },
  {
   "cell_type": "code",
   "execution_count": null,
   "metadata": {},
   "outputs": [],
   "source": [
    "# Plot and show\n",
    "fig, ax = plt.subplots()\n",
    "wfct.visualization.plot_turbines(ax, layout_x, layout_y, yaw_angles=np.zeros(len(layout_x)), D=D)\n",
    "ax.set_title('Layout')\n"
   ]
  },
  {
   "cell_type": "code",
   "execution_count": null,
   "metadata": {},
   "outputs": [],
   "source": []
  },
  {
   "cell_type": "code",
   "execution_count": null,
   "metadata": {},
   "outputs": [],
   "source": []
  }
 ],
 "metadata": {
  "kernelspec": {
   "display_name": "Python 3",
   "language": "python",
   "name": "python3"
  },
  "language_info": {
   "codemirror_mode": {
    "name": "ipython",
    "version": 3
   },
   "file_extension": ".py",
   "mimetype": "text/x-python",
   "name": "python",
   "nbconvert_exporter": "python",
   "pygments_lexer": "ipython3",
   "version": "3.7.4"
  }
 },
 "nbformat": 4,
 "nbformat_minor": 4
}
