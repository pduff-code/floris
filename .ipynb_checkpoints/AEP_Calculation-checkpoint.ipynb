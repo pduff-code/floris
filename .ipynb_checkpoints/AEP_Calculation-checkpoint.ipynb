{
 "cells": [
  {
   "cell_type": "markdown",
   "metadata": {},
   "source": [
    "AEP_Calculation\n",
    "NREL\n",
    "Patrick Duffy\n",
    "11/11/19"
   ]
  },
  {
   "cell_type": "code",
   "execution_count": null,
   "metadata": {},
   "outputs": [],
   "source": [
    "# AEP calculation notebook\n",
    "# this is a basic AEP calculation using FLORIS without any yaw optimization"
   ]
  },
  {
   "cell_type": "code",
   "execution_count": null,
   "metadata": {},
   "outputs": [],
   "source": [
    "import matplotlib.pyplot as plt\n",
    "import floris.tools as wfct\n",
    "import floris.tools.visualization as vis\n",
    "import floris.tools.cut_plane as cp\n",
    "from floris.tools.optimization import YawOptimizationWindRose\n",
    "import floris.tools.wind_rose as rose\n",
    "import floris.tools.power_rose as pr\n",
    "import numpy as np\n",
    "import pandas as pd"
   ]
  },
  {
   "cell_type": "code",
   "execution_count": null,
   "metadata": {},
   "outputs": [],
   "source": [
    "# Instantiate the FLORIS object\n",
    "fi = wfct.floris_utilities.FlorisInterface(\"examples\\example_input.json\")\n",
    "\n",
    "# Define wind farm coordinates and layout\n",
    "#wf_coordinate = [39.8283, -98.5795] # exact center of continental US\n",
    "#wf_coordinate = [41.134728, -70.394570] # Massachusetts offshore\n",
    "wf_coordinate = [35.236497, -120.991624] # California offshore\n",
    "\n",
    "# Set wind farm to N_row x N_row grid with constant spacing \n",
    "# (2 x 2 grid, 7 D spacing)\n",
    "D = fi.floris.farm.turbines[0].rotor_diameter\n",
    "N_row = 5\n",
    "spc = 7\n",
    "layout_x = []\n",
    "layout_y = []\n",
    "for i in range(N_row):\n",
    "\tfor k in range(N_row):\n",
    "\t\tlayout_x.append(i*spc*D)\n",
    "\t\tlayout_y.append(k*spc*D)\n",
    "N_turb = len(layout_x)\n",
    "\n",
    "fi.reinitialize_flow_field(layout_array=(layout_x, layout_y),wind_direction=270.0,wind_speed=8.0)\n",
    "fi.calculate_wake() # must do this t "
   ]
  },
  {
   "cell_type": "code",
   "execution_count": null,
   "metadata": {},
   "outputs": [],
   "source": [
    "# plot WF layout\n",
    "plot_wf_layout = True\n",
    "if plot_wf_layout:\n",
    "    fig, ax = plt.subplots()\n",
    "    vis.plot_turbines(ax, layout_x, layout_y, yaw_angles=np.zeros(len(layout_x)), D=D)\n",
    "    ax.set_title('Wind Farm Layout')\n",
    "\n"
   ]
  },
  {
   "cell_type": "code",
   "execution_count": null,
   "metadata": {},
   "outputs": [],
   "source": [
    "# set min and max yaw offsets for optimization\n",
    "min_yaw = 0.0\n",
    "max_yaw = 0.0 # 0 for no yaw optimization\n",
    "\n",
    "# Define minimum and maximum wind speed for optimizing power. \n",
    "# Below minimum wind speed, assumes power is zero.\n",
    "# Above maximum_ws, assume optimal yaw offsets are 0 degrees\n",
    "minimum_ws = 4.0\n",
    "maximum_ws = 25.0"
   ]
  },
  {
   "cell_type": "code",
   "execution_count": null,
   "metadata": {
    "scrolled": true
   },
   "outputs": [],
   "source": [
    "# ================================================================================\n",
    "print('Importing wind rose data...')\n",
    "# ================================================================================\n",
    "\n",
    "# Create wind rose object and import wind rose dataframe using WIND Toolkit HSDS API.\n",
    "# Alternatively, load existing .csv file with wind rose information.\n",
    "calculate_new_wind_rose = True\n",
    "\n",
    "wind_rose = rose.WindRose()\n",
    "\n",
    "if calculate_new_wind_rose:\n",
    "\n",
    "\twd_list = np.arange(0,360,5)\n",
    "\tws_list = np.arange(0,26,1)\n",
    "\n",
    "\tdf = wind_rose.import_from_wind_toolkit_hsds(wf_coordinate[0],\n",
    "\t                                                    wf_coordinate[1],\n",
    "\t                                                    ht = 100,\n",
    "\t                                                    wd = wd_list,\n",
    "\t                                                    ws = ws_list,\n",
    "\t                                                    limit_month = None,\n",
    "\t                                                    st_date = None,\n",
    "\t                                                    en_date = None)\n",
    "\n",
    "else:\n",
    "\tdf = wind_rose.load('windtoolkit_geo_center_us.p')\n",
    "    \n",
    "# plot wind rose\n",
    "wind_rose.plot_wind_rose()\n",
    "#wind_rose.save('center_us_testsave.p')"
   ]
  },
  {
   "cell_type": "code",
   "execution_count": null,
   "metadata": {},
   "outputs": [],
   "source": [
    "# =============================================================================\n",
    "print('Finding baseline and optimal yaw angles in FLORIS...')\n",
    "# =============================================================================\n",
    "\n",
    "# Instantiate the Optimization object\n",
    "yaw_opt = YawOptimizationWindRose(fi, df.wd, df.ws,\n",
    "                               minimum_yaw_angle=min_yaw,\n",
    "                               maximum_yaw_angle=max_yaw,\n",
    "                               minimum_ws=minimum_ws,\n",
    "                               maximum_ws=maximum_ws)\n",
    "\n",
    "# Determine baseline power with and without wakes\n",
    "df_base = yaw_opt.calc_baseline_power()\n",
    "\n",
    "\n",
    "# combine wind farm-level power into one dataframe\n",
    "df_power = pd.DataFrame({'ws':df.ws,'wd':df.wd, \\\n",
    "    'freq_val':df.freq_val,'power_no_wake':df_base.power_no_wake, \\\n",
    "    'power_baseline':df_base.power_baseline})\n",
    "\n",
    "# Set up the power rose\n",
    "df_turbine_power_no_wake = pd.DataFrame([list(row) for row in df_base['turbine_power_no_wake']],columns=[str(i) for i in range(1,N_turb+1)])\n",
    "df_turbine_power_no_wake['ws'] = df.ws\n",
    "df_turbine_power_no_wake['wd'] = df.wd\n",
    "df_turbine_power_baseline = pd.DataFrame([list(row) for row in df_base['turbine_power_baseline']],columns=[str(i) for i in range(1,N_turb+1)])\n",
    "df_turbine_power_baseline['ws'] = df.ws\n",
    "df_turbine_power_baseline['wd'] = df.wd\n",
    "\n",
    "case_name = 'Example '+str(N_row)+' x '+str(N_row)+ ' Wind Farm'\n",
    "power_rose = pr.PowerRose(case_name, df_power, df_turbine_power_no_wake, df_turbine_power_baseline)\n",
    "\n",
    "# Display AEP analysis\n",
    "fig, axarr = plt.subplots(2, 1, sharex=True, figsize=(6.4, 6.5))\n",
    "power_rose.plot_by_direction(axarr)\n",
    "power_rose.report()\n",
    "\n",
    "plt.show()"
   ]
  },
  {
   "cell_type": "code",
   "execution_count": null,
   "metadata": {},
   "outputs": [],
   "source": [
    "# It takes approx. 5 min for me to run this notebook with 25 turbines and fetching wind data from WTK - Patrick\n",
    "\n",
    "\n",
    "#df.columns # wind data \n",
    "#df_base.columns\n",
    "#df_base['turbine_power_baseline']\n",
    "#df_base['turbine_power_no_wake']"
   ]
  },
  {
   "cell_type": "code",
   "execution_count": null,
   "metadata": {},
   "outputs": [],
   "source": []
  }
 ],
 "metadata": {
  "kernelspec": {
   "display_name": "Python 3",
   "language": "python",
   "name": "python3"
  },
  "language_info": {
   "codemirror_mode": {
    "name": "ipython",
    "version": 3
   },
   "file_extension": ".py",
   "mimetype": "text/x-python",
   "name": "python",
   "nbconvert_exporter": "python",
   "pygments_lexer": "ipython3",
   "version": "3.7.4"
  }
 },
 "nbformat": 4,
 "nbformat_minor": 2
}
